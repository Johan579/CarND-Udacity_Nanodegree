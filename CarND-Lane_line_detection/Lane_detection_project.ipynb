{
 "cells": [
  {
   "cell_type": "code",
   "execution_count": 13,
   "metadata": {
    "scrolled": true
   },
   "outputs": [],
   "source": [
    "import matplotlib.pyplot as plt\n",
    "import matplotlib.image as mpimg\n",
    "import numpy as np\n",
    "import cv2"
   ]
  },
  {
   "cell_type": "code",
   "execution_count": 14,
   "metadata": {
    "scrolled": true
   },
   "outputs": [],
   "source": [
    "#Images\n",
    "# image = mpimg.imread('test_images/solidYellowLeft.jpg')\n",
    "video = cv2.VideoCapture('test_videos/solidYellowLeft.mp4')\n",
    "\n",
    "#Canny image parameters\n",
    "kernel_size = 5\n",
    "low_threshold = 70\n",
    "high_threshold = 210\n",
    "\n",
    "#Line parameters\n",
    "rho = 1\n",
    "theta = np.pi/180\n",
    "threshold = 5\n",
    "min_line_length = 5\n",
    "max_line_gap = 1"
   ]
  },
  {
   "cell_type": "code",
   "execution_count": 15,
   "metadata": {},
   "outputs": [],
   "source": [
    "def canny(image):\n",
    "    gray = cv2.cvtColor(image, cv2.COLOR_RGB2GRAY)\n",
    "    blur_gray = cv2.GaussianBlur(gray, (kernel_size, kernel_size), 0)\n",
    "    edges = cv2.Canny(gray, low_threshold, high_threshold)\n",
    "    return edges\n",
    "\n",
    "def region_of_interest(edges):\n",
    "    mask = np.zeros_like(edges)\n",
    "    ignore_mask_color = 255\n",
    "    imshape = image.shape\n",
    "    vertices = np.array([[(40, imshape[0]), (430, 330), (530, 330), (890, imshape[0])]], dtype=np.int32)\n",
    "    cv2.fillPoly(mask, vertices, ignore_mask_color)\n",
    "    masked_edges = cv2.bitwise_and(edges, mask)\n",
    "    return masked_edges\n",
    "\n",
    "def draw_lines(lines, line_image):\n",
    "    if lines is not None:\n",
    "        for line in lines:\n",
    "            x1, y1, x2, y2 = line.reshape(4)\n",
    "            cv2.line(line_image, (x1,y1), (x2,y2),(255,0,0),10)\n",
    "    return line_image\n",
    "\n",
    "def average_lines(image, lines):\n",
    "    left_fit = []\n",
    "    right_fit = []\n",
    "    left_intercept = []\n",
    "    right_intercept = []\n",
    "    for line in lines:\n",
    "        for x1, y1, x2, y2 in line:\n",
    "            slope = (y2 - y1)/(x2 - x1)\n",
    "            if slope < 0:\n",
    "                left_intercept.append((y1-x1*slope, y2-x2*slope))\n",
    "                left_fit.append(slope)\n",
    "            else:\n",
    "                right_fit.append(slope)\n",
    "                right_intercept.append((y1-x1*slope, y2-x2*slope))\n",
    "    \n",
    "    right_fit_average = np.mean(right_fit)\n",
    "    left_fit_average = np.mean(left_fit)\n",
    "    right_int_average = np.mean(right_intercept)\n",
    "    left_int_average = np.mean(left_intercept)\n",
    "    right_line = make_coordinate(image, right_fit_average, right_int_average)\n",
    "    left_line = make_coordinate(image, left_fit_average, left_int_average)\n",
    "    return np.array([left_line, right_line])\n",
    "\n",
    "def make_coordinate(image, slope, intercept):\n",
    "    y1 = image.shape[0]\n",
    "    y2 = int(y1*(3/5))\n",
    "    x1 = int((y1 - intercept)/slope)\n",
    "    x2 = int((y2 - intercept)/slope)\n",
    "    return np.array([x1, y1, x2, y2])\n",
    "\n",
    "while(video.isOpened()):\n",
    "    _, image = video.read()\n",
    "    if image is None:\n",
    "        break\n",
    "    line_image = np.copy(image)*0\n",
    "    canny_image = canny(image)\n",
    "    region = region_of_interest(canny_image)\n",
    "    lines = cv2.HoughLinesP(region, rho, theta, threshold, np.array([]), min_line_length, max_line_gap)\n",
    "    averaged_lines = average_lines(image, lines)\n",
    "    line_image = draw_lines(averaged_lines, line_image)\n",
    "\n",
    "    color_edges = np.dstack((canny_image, canny_image, canny_image))\n",
    "    combo = cv2.addWeighted(image, 0.8, line_image, 1, 0)\n",
    "    cv2.imshow('Combined', combo)\n",
    "    if cv2.waitKey(1) & 0xFF == ord('q'):\n",
    "        break\n",
    "video.release()\n",
    "cv2.destroyAllWindows()\n"
   ]
  },
  {
   "cell_type": "code",
   "execution_count": null,
   "metadata": {},
   "outputs": [],
   "source": []
  },
  {
   "cell_type": "code",
   "execution_count": null,
   "metadata": {},
   "outputs": [],
   "source": []
  }
 ],
 "metadata": {
  "kernelspec": {
   "display_name": "Python 2",
   "language": "python",
   "name": "python2"
  },
  "language_info": {
   "codemirror_mode": {
    "name": "ipython",
    "version": 3
   },
   "file_extension": ".py",
   "mimetype": "text/x-python",
   "name": "python",
   "nbconvert_exporter": "python",
   "pygments_lexer": "ipython3",
   "version": "3.6.9"
  }
 },
 "nbformat": 4,
 "nbformat_minor": 2
}
